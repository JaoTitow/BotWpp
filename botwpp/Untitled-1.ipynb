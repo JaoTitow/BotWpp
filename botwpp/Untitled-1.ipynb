{
 "cells": [
  {
   "cell_type": "markdown",
   "metadata": {},
   "source": [
    "Bibliotecas \n"
   ]
  },
  {
   "cell_type": "code",
   "execution_count": 1,
   "metadata": {},
   "outputs": [],
   "source": [
    "from webdriver_manager.chrome import ChromeDriverManager\n",
    "from selenium import webdriver\n",
    "from selenium.webdriver.chrome.service import Service\n",
    "from selenium.webdriver.common.by import By\n",
    "\n",
    "from selenium.webdriver.support.wait import WebDriverWait\n",
    "from selenium.webdriver.support import expected_conditions as EC\n",
    "from selenium.webdriver.common.keys import Keys\n",
    "\n",
    "from pathlib import Path\n",
    "from time import sleep"
   ]
  },
  {
   "cell_type": "markdown",
   "metadata": {},
   "source": [
    "Atualização dos drivers // Google"
   ]
  },
  {
   "cell_type": "code",
   "execution_count": 2,
   "metadata": {},
   "outputs": [],
   "source": [
    "service = Service(ChromeDriverManager().install())\n",
    "driver = webdriver.Chrome(service=service) "
   ]
  },
  {
   "cell_type": "markdown",
   "metadata": {},
   "source": [
    "Abrindo whatsapp // selecionando a barra lateral"
   ]
  },
  {
   "cell_type": "code",
   "execution_count": 3,
   "metadata": {},
   "outputs": [],
   "source": [
    "driver.get(\"https://web.whatsapp.com/\")\n",
    "wait = WebDriverWait(driver, timeout=60)\n",
    "barra_lateral = wait.until(EC.presence_of_element_located((By.XPATH, '//*[@id=\"side\"]')))\n",
    "driver.implicitly_wait(10)"
   ]
  },
  {
   "cell_type": "markdown",
   "metadata": {},
   "source": [
    "Pesquisando contato\n"
   ]
  },
  {
   "cell_type": "code",
   "execution_count": 17,
   "metadata": {},
   "outputs": [],
   "source": [
    "nome_contato = \"Teste 1\" #nome do contato desejado\n",
    "barra_pesquisa = driver.find_element(By.XPATH, '//div[@title=\"Caixa de texto de pesquisa\"]')"
   ]
  },
  {
   "cell_type": "code",
   "execution_count": 18,
   "metadata": {},
   "outputs": [],
   "source": [
    "barra_pesquisa.send_keys(Keys.CONTROL + 'a')\n",
    "barra_pesquisa.send_keys(Keys.DELETE) "
   ]
  },
  {
   "cell_type": "code",
   "execution_count": 19,
   "metadata": {},
   "outputs": [],
   "source": [
    "barra_pesquisa = driver.find_element(By.XPATH, '//div[@title=\"Caixa de texto de pesquisa\"]')\n",
    "barra_pesquisa.send_keys(nome_contato)\n"
   ]
  },
  {
   "cell_type": "markdown",
   "metadata": {},
   "source": [
    "Abrindo a conversa // NAO MUDA NADA AQUI PELO AMOR DE DEUS // só o span buscando pra alterar o \"Teste 1\" pelo nome do contato"
   ]
  },
  {
   "cell_type": "code",
   "execution_count": 29,
   "metadata": {},
   "outputs": [],
   "source": [
    "wait = WebDriverWait(driver, timeout=2)\n",
    "span_buscando = '//span[@title=\"Teste 1\"]'\n",
    "conversa_lateral = WebDriverWait(driver, 10).until(EC.element_to_be_clickable((By.XPATH, span_buscando)))\n",
    "driver.execute_script(\"arguments[0].scrollIntoView(true);\", conversa_lateral)\n",
    "conversa_lateral.click()"
   ]
  },
  {
   "cell_type": "markdown",
   "metadata": {},
   "source": [
    "Enviando uma mensagem \n"
   ]
  },
  {
   "cell_type": "code",
   "execution_count": 30,
   "metadata": {},
   "outputs": [],
   "source": [
    "mensagem = \"oi\"\n",
    "\n",
    "caixa_de_mensagem = driver.find_element(By.XPATH, '//div[@title=\"Digite uma mensagem\"]')\n",
    "caixa_de_mensagem.send_keys(mensagem)\n",
    "caixa_de_mensagem.send_keys(Keys.RETURN)\n",
    "i = True\n",
    "#while(i == True):\n",
    "    #caixa_de_mensagem.send_keys(mensagem)\n",
    "    #caixa_de_mensagem.send_keys(Keys.RETURN)"
   ]
  },
  {
   "cell_type": "markdown",
   "metadata": {},
   "source": [
    "Área de envio de documentos // pdf e foto // da pra fazer com vídeos tmb"
   ]
  },
  {
   "cell_type": "markdown",
   "metadata": {},
   "source": [
    "Enviando documentos "
   ]
  },
  {
   "cell_type": "code",
   "execution_count": 31,
   "metadata": {},
   "outputs": [],
   "source": [
    "caminho_doc = \"C:/Users/joaog/Documents/GitHub/botwpp/botwpp/catalogo.pdf\"\n",
    "\n",
    "bt_de_arquivos = driver.find_element(By.XPATH, '//div[@title=\"Anexar\" or @title=\"Attach\" ]') # Acha aquele botão de +\n",
    "bt_de_arquivos.click()\n",
    "\n",
    "bt_doc = driver.find_element(By.XPATH, '//input[@accept=\"*\" and @type=\"file\"]') #Acha o tipo de documentos\n",
    "bt_doc.send_keys(caminho_doc)\n",
    "\n",
    "bt_doc_enviar = driver.find_element(By.XPATH, '//span[@data-icon=\"send\"]') #envia o documento\n",
    "bt_doc_enviar.click()"
   ]
  },
  {
   "cell_type": "markdown",
   "metadata": {},
   "source": [
    "Enviando a imagem"
   ]
  },
  {
   "cell_type": "code",
   "execution_count": 33,
   "metadata": {},
   "outputs": [],
   "source": [
    "caminho_foto = 'C:/Users/joaog/Documents/GitHub/botwpp/botwpp/passaro.jpeg'\n",
    "\n",
    "bt_de_arquivos = driver.find_element(By.XPATH, '//div[@title=\"Anexar\" or @title=\"Attach\" ]')\n",
    "bt_de_arquivos.click() \n",
    "\n",
    "bt_foto = driver.find_element(By.XPATH, '//input[@accept=\"image/*,video/mp4,video/3gpp,video/quicktime\" and @type=\"file\"]')\n",
    "bt_foto.send_keys(caminho_foto)\n",
    "\n",
    "bt_foto_enviar = driver.find_element(By.XPATH, '//span[@data-icon=\"send\"]')\n",
    "bt_foto_enviar.click()\n"
   ]
  }
 ],
 "metadata": {
  "kernelspec": {
   "display_name": "Python 3",
   "language": "python",
   "name": "python3"
  },
  "language_info": {
   "codemirror_mode": {
    "name": "ipython",
    "version": 3
   },
   "file_extension": ".py",
   "mimetype": "text/x-python",
   "name": "python",
   "nbconvert_exporter": "python",
   "pygments_lexer": "ipython3",
   "version": "3.12.2"
  }
 },
 "nbformat": 4,
 "nbformat_minor": 2
}
